{
  "nbformat": 4,
  "nbformat_minor": 0,
  "metadata": {
    "colab": {
      "provenance": []
    },
    "kernelspec": {
      "name": "python3",
      "display_name": "Python 3"
    },
    "language_info": {
      "name": "python"
    }
  },
  "cells": [
    {
      "cell_type": "code",
      "execution_count": null,
      "metadata": {
        "id": "8xhw_fgZ9pxr"
      },
      "outputs": [],
      "source": [
        "# 1. Subir archivo .sav desde tu computadora al entorno de Google Colab\n",
        "from google.colab import files # Importa módulo para trabajar con archivos en Colab\n",
        "uploaded = files.upload() # Abre un cuadro para seleccionar y subir el archivo .sav\n"
      ]
    },
    {
      "cell_type": "code",
      "source": [
        "# 2. Leer archivo .sav\n",
        "!pip install pyreadstat # Instala la librería necesaria para leer archivos SPSS (.sav)\n",
        "import pyreadstat # Importa la librería para trabajar con archivos .sav\n",
        "df, meta = pyreadstat.read_sav(\"BDDenemdu_personas_2024_anual.sav\") # # Lee el archivo .sav y separa los datos (df) y metadatos (meta)\n"
      ],
      "metadata": {
        "id": "Ve18xIgnAuYJ"
      },
      "execution_count": null,
      "outputs": []
    },
    {
      "cell_type": "code",
      "source": [
        "# 2.1 Visualizamos la data\n",
        "from google.colab import data_table\n",
        "data_table.DataTable(df)\n"
      ],
      "metadata": {
        "id": "CcXQ8R6JuFfr"
      },
      "execution_count": null,
      "outputs": []
    },
    {
      "cell_type": "code",
      "source": [
        "# 3. Crear una copia del DataFrame original para no alterar los datos sin etiquetas\n",
        "df_etiquetado = df.copy()\n",
        "\n",
        "for var, labels in meta.variable_value_labels.items():\n",
        "    # Aplica solo si los valores originales son enteros o categorías codificadas\n",
        "    if var in df.columns and df[var].dtype in ['int64', 'float64', 'object']:\n",
        "        # Verificamos que los valores actuales son solo códigos presentes en el diccionario\n",
        "        if df[var].dropna().isin(labels.keys()).all():\n",
        "            df_etiquetado[var] = df[var].map(labels)"
      ],
      "metadata": {
        "id": "Rh0fZGGmvstF"
      },
      "execution_count": null,
      "outputs": []
    },
    {
      "cell_type": "code",
      "source": [
        "# 3.1 Visualizamos la data\n",
        "from google.colab import data_table\n",
        "data_table.DataTable(df)"
      ],
      "metadata": {
        "id": "WAktV8fBv0Aa"
      },
      "execution_count": null,
      "outputs": []
    },
    {
      "cell_type": "code",
      "source": [
        "# 4. Crear dataframe con solo las variables necesarias\n",
        "ecuador = df_etiquetado[['prov', 'pobreza', 'fexp']].copy()\n"
      ],
      "metadata": {
        "id": "6A-gFsyqBFJJ"
      },
      "execution_count": null,
      "outputs": []
    },
    {
      "cell_type": "code",
      "source": [
        "# 4.1 Visualizamos la data\n",
        "from google.colab import data_table\n",
        "data_table.DataTable(ecuador)"
      ],
      "metadata": {
        "id": "M6RPSL8mwc7l"
      },
      "execution_count": null,
      "outputs": []
    },
    {
      "cell_type": "code",
      "source": [
        "# 5. Renombrar columnas para claridad\n",
        "ecuador.rename(columns={'prov': 'provincia', 'fexp': 'facpob'}, inplace=True)\n"
      ],
      "metadata": {
        "id": "Xq7E2nTfBH8d"
      },
      "execution_count": null,
      "outputs": []
    },
    {
      "cell_type": "code",
      "source": [
        "# 6. Asegurar que 'pobreza' y 'provincia' sean tipo categoría\n",
        "ecuador[['pobreza', 'provincia']] = ecuador[['pobreza', 'provincia']].astype('category')\n"
      ],
      "metadata": {
        "id": "ZFfgTQrqBKqx"
      },
      "execution_count": null,
      "outputs": []
    },
    {
      "cell_type": "code",
      "source": [
        "# 7. Calcular % de pobreza (FGT0) por provincia\n",
        "# Agrupa por provincia y categoría de pobreza, y suma los factores poblacionales (facpob) por grupo\n",
        "tabla = (\n",
        "    ecuador.groupby(['provincia', 'pobreza'])['facpob'].sum()\n",
        "    .unstack(fill_value=0) # Convierte las categorías de 'pobreza' en columnas, reemplaza NaN con 0\n",
        ")\n",
        "\n",
        "# Calcula el % de personas pobres (fgt0) como la proporción ponderada (usando 'facpob') por provincia\n",
        "# Redondea el resultado a un decimal\n",
        "tabla['fgt0'] = (tabla.get('POBRE', 0) / tabla.sum(axis=1) * 100).round(1)\n"
      ],
      "metadata": {
        "id": "TKDWaNZ2BNaP"
      },
      "execution_count": null,
      "outputs": []
    },
    {
      "cell_type": "code",
      "source": [
        "# 8. Crear tabla final solo con provincia y % de pobreza\n",
        "tabla_final = tabla[['fgt0']].reset_index()\n"
      ],
      "metadata": {
        "id": "Wir_2z0EBQxi"
      },
      "execution_count": null,
      "outputs": []
    },
    {
      "cell_type": "code",
      "source": [
        "# 9. Ver resultado final en Colab\n",
        "from google.colab import data_table\n",
        "data_table.DataTable(tabla_final)\n"
      ],
      "metadata": {
        "id": "AFOZQt80BVL8"
      },
      "execution_count": null,
      "outputs": []
    }
  ]
}